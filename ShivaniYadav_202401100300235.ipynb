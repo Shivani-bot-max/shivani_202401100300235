{
  "nbformat": 4,
  "nbformat_minor": 0,
  "metadata": {
    "colab": {
      "provenance": []
    },
    "kernelspec": {
      "name": "python3",
      "display_name": "Python 3"
    },
    "language_info": {
      "name": "python"
    }
  },
  "cells": [
    {
      "cell_type": "code",
      "execution_count": null,
      "metadata": {
        "id": "lFb9pEtZjWQw",
        "colab": {
          "base_uri": "https://localhost:8080/"
        },
        "outputId": "b6131765-cd9a-4aa7-d455-8a3deb73cafe"
      },
      "outputs": [
        {
          "output_type": "stream",
          "name": "stdout",
          "text": [
            "Enter the value of N for the N-Queens problem (attempt 1/3): 5\n",
            "Enter the value of N for the N-Queens problem (attempt 2/3): 6\n",
            "Enter the value of N for the N-Queens problem (attempt 3/3): 9\n",
            "\n",
            "Solving 5-Queens problem:\n",
            "Q . . . .\n",
            ". . . Q .\n",
            ". Q . . .\n",
            ". . . . Q\n",
            ". . Q . .\n",
            "\n",
            "\n",
            "Solving 6-Queens problem:\n",
            ". . . Q . .\n",
            "Q . . . . .\n",
            ". . . . Q .\n",
            ". Q . . . .\n",
            ". . . . . Q\n",
            ". . Q . . .\n",
            "\n",
            "\n",
            "Solving 9-Queens problem:\n",
            "Q . . . . . . . .\n",
            ". . . . . . Q . .\n",
            ". . . . Q . . . .\n",
            ". . . . . . . Q .\n",
            ". Q . . . . . . .\n",
            ". . . . . . . . Q\n",
            ". . Q . . . . . .\n",
            ". . . . . Q . . .\n",
            ". . . Q . . . . .\n",
            "\n"
          ]
        }
      ],
      "source": [
        "import random\n",
        "\n",
        "def print_solution(board):\n",
        "    \"\"\"Prints the N-Queens board solution in a readable format.\"\"\"\n",
        "    for row in board:\n",
        "        print(\" \".join(\"Q\" if col else \".\" for col in row))  # Print row with 'Q' for queen, '.' for empty space\n",
        "    print()  # Print a newline for readability\n",
        "\n",
        "def is_safe(board, row, col, n):\n",
        "    \"\"\"Checks if it's safe to place a queen at board[row][col].\"\"\"\n",
        "    # Check column for another queen\n",
        "    for i in range(row):\n",
        "        if board[i][col]:\n",
        "            return False\n",
        "\n",
        "    # Check upper-left diagonal for another queen\n",
        "    for i, j in zip(range(row, -1, -1), range(col, -1, -1)):\n",
        "        if board[i][j]:\n",
        "            return False\n",
        "\n",
        "    # Check upper-right diagonal for another queen\n",
        "    for i, j in zip(range(row, -1, -1), range(col, n)):\n",
        "        if board[i][j]:\n",
        "            return False\n",
        "\n",
        "    return True  # No conflicts, safe to place queen\n",
        "\n",
        "def solve_n_queens(board, row, n):\n",
        "    \"\"\"Uses backtracking to find a single valid solution for the N-Queens problem.\"\"\"\n",
        "    if row == n:  # Base case: all queens are placed successfully\n",
        "        print_solution(board)  # Print the solution board\n",
        "        return True  # Stop searching once a solution is found\n",
        "\n",
        "    columns = list(range(n))\n",
        "    random.shuffle(columns)  # Randomize column order for diversity in solutions\n",
        "\n",
        "    for col in columns:  # Try placing queen in each column of the current row\n",
        "        if is_safe(board, row, col, n):  # Check if it's safe to place queen\n",
        "            board[row][col] = True  # Place queen in the board[row][col]\n",
        "            if solve_n_queens(board, row + 1, n):  # Recur to place next queen\n",
        "                return True  # Stop searching if a valid solution is found\n",
        "            board[row][col] = False  # Backtrack: Remove queen and try next position\n",
        "\n",
        "    return False  # No valid solution found in this path\n",
        "\n",
        "def n_queens(n):\n",
        "    \"\"\"Initializes the board and starts the N-Queens solver.\"\"\"\n",
        "    board = [[False] * n for _ in range(n)]  # Create an N x N board initialized with False\n",
        "    if not solve_n_queens(board, 0, n):  # Start solving from the first row\n",
        "        print(\"No solution exists\")  # If no solution, print message\n",
        "\n",
        "# Take user input for three board sizes\n",
        "n_values = [int(input(f\"Enter the value of N for the N-Queens problem (attempt {i+1}/3): \")) for i in range(3)]\n",
        "\n",
        "for n in n_values:\n",
        "    if n < 1:\n",
        "        print(f\"Invalid input! N must be at least 1 (N={n}).\")  # Ensure valid input\n",
        "    else:\n",
        "        print(f\"\\nSolving {n}-Queens problem:\")\n",
        "        n_queens(n)  # Call the solver with the chosen N\n"
      ]
    }
  ]
}